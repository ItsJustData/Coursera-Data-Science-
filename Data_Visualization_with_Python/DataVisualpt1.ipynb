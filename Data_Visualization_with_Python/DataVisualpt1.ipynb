{
 "cells": [
  {
   "cell_type": "code",
   "execution_count": null,
   "metadata": {},
   "outputs": [],
   "source": [
    "#Student: David Anim-Addo\n",
    "#Course: Coursera - Data Visualization with Python\n",
    "#Date: 10-21-19"
   ]
  },
  {
   "cell_type": "code",
   "execution_count": 25,
   "metadata": {},
   "outputs": [
    {
     "name": "stdout",
     "output_type": "stream",
     "text": [
      "Solving environment: done\n",
      "\n",
      "\n",
      "==> WARNING: A newer version of conda exists. <==\n",
      "  current version: 4.5.11\n",
      "  latest version: 4.7.12\n",
      "\n",
      "Please update conda by running\n",
      "\n",
      "    $ conda update -n base -c defaults conda\n",
      "\n",
      "\n",
      "\n",
      "# All requested packages already installed.\n",
      "\n"
     ]
    }
   ],
   "source": [
    "import numpy as np #Handles scientific computing in Python\n",
    "import pandas as pd #Data structure library\n",
    "!conda install -c anaconda xlrd --yes #Install xlrd module"
   ]
  },
  {
   "cell_type": "code",
   "execution_count": 64,
   "metadata": {},
   "outputs": [
    {
     "data": {
      "text/html": [
       "<div>\n",
       "<style scoped>\n",
       "    .dataframe tbody tr th:only-of-type {\n",
       "        vertical-align: middle;\n",
       "    }\n",
       "\n",
       "    .dataframe tbody tr th {\n",
       "        vertical-align: top;\n",
       "    }\n",
       "\n",
       "    .dataframe thead th {\n",
       "        text-align: right;\n",
       "    }\n",
       "</style>\n",
       "<table border=\"1\" class=\"dataframe\">\n",
       "  <thead>\n",
       "    <tr style=\"text-align: right;\">\n",
       "      <th></th>\n",
       "      <th>Unnamed: 0</th>\n",
       "      <th>Very interested</th>\n",
       "      <th>Somewhat interested</th>\n",
       "      <th>Not interested</th>\n",
       "    </tr>\n",
       "  </thead>\n",
       "  <tbody>\n",
       "    <tr>\n",
       "      <td>0</td>\n",
       "      <td>Big Data (Spark / Hadoop)</td>\n",
       "      <td>1332</td>\n",
       "      <td>729</td>\n",
       "      <td>127</td>\n",
       "    </tr>\n",
       "    <tr>\n",
       "      <td>1</td>\n",
       "      <td>Data Analysis / Statistics</td>\n",
       "      <td>1688</td>\n",
       "      <td>444</td>\n",
       "      <td>60</td>\n",
       "    </tr>\n",
       "    <tr>\n",
       "      <td>2</td>\n",
       "      <td>Data Journalism</td>\n",
       "      <td>429</td>\n",
       "      <td>1081</td>\n",
       "      <td>610</td>\n",
       "    </tr>\n",
       "    <tr>\n",
       "      <td>3</td>\n",
       "      <td>Data Visualization</td>\n",
       "      <td>1340</td>\n",
       "      <td>734</td>\n",
       "      <td>102</td>\n",
       "    </tr>\n",
       "    <tr>\n",
       "      <td>4</td>\n",
       "      <td>Deep Learning</td>\n",
       "      <td>1263</td>\n",
       "      <td>770</td>\n",
       "      <td>136</td>\n",
       "    </tr>\n",
       "    <tr>\n",
       "      <td>5</td>\n",
       "      <td>Machine Learning</td>\n",
       "      <td>1629</td>\n",
       "      <td>477</td>\n",
       "      <td>74</td>\n",
       "    </tr>\n",
       "  </tbody>\n",
       "</table>\n",
       "</div>"
      ],
      "text/plain": [
       "                   Unnamed: 0  Very interested  Somewhat interested  \\\n",
       "0   Big Data (Spark / Hadoop)             1332                  729   \n",
       "1  Data Analysis / Statistics             1688                  444   \n",
       "2             Data Journalism              429                 1081   \n",
       "3          Data Visualization             1340                  734   \n",
       "4               Deep Learning             1263                  770   \n",
       "5            Machine Learning             1629                  477   \n",
       "\n",
       "   Not interested  \n",
       "0             127  \n",
       "1              60  \n",
       "2             610  \n",
       "3             102  \n",
       "4             136  \n",
       "5              74  "
      ]
     },
     "execution_count": 64,
     "metadata": {},
     "output_type": "execute_result"
    }
   ],
   "source": [
    "df_topsrv = pd.read_csv('https://s3-api.us-geo.objectstorage.softlayer.net/cf-courses-data/CognitiveClass/DV0101EN/labs/coursera/Topic_Survey_Assignment.csv')\n",
    "df_topsrv"
   ]
  },
  {
   "cell_type": "code",
   "execution_count": 65,
   "metadata": {},
   "outputs": [
    {
     "data": {
      "text/html": [
       "<div>\n",
       "<style scoped>\n",
       "    .dataframe tbody tr th:only-of-type {\n",
       "        vertical-align: middle;\n",
       "    }\n",
       "\n",
       "    .dataframe tbody tr th {\n",
       "        vertical-align: top;\n",
       "    }\n",
       "\n",
       "    .dataframe thead th {\n",
       "        text-align: right;\n",
       "    }\n",
       "</style>\n",
       "<table border=\"1\" class=\"dataframe\">\n",
       "  <thead>\n",
       "    <tr style=\"text-align: right;\">\n",
       "      <th></th>\n",
       "      <th></th>\n",
       "      <th>Very interested</th>\n",
       "      <th>Somewhat interested</th>\n",
       "      <th>Not interested</th>\n",
       "    </tr>\n",
       "  </thead>\n",
       "  <tbody>\n",
       "    <tr>\n",
       "      <td>0</td>\n",
       "      <td>Big Data (Spark / Hadoop)</td>\n",
       "      <td>1332</td>\n",
       "      <td>729</td>\n",
       "      <td>127</td>\n",
       "    </tr>\n",
       "    <tr>\n",
       "      <td>1</td>\n",
       "      <td>Data Analysis / Statistics</td>\n",
       "      <td>1688</td>\n",
       "      <td>444</td>\n",
       "      <td>60</td>\n",
       "    </tr>\n",
       "    <tr>\n",
       "      <td>2</td>\n",
       "      <td>Data Journalism</td>\n",
       "      <td>429</td>\n",
       "      <td>1081</td>\n",
       "      <td>610</td>\n",
       "    </tr>\n",
       "    <tr>\n",
       "      <td>3</td>\n",
       "      <td>Data Visualization</td>\n",
       "      <td>1340</td>\n",
       "      <td>734</td>\n",
       "      <td>102</td>\n",
       "    </tr>\n",
       "    <tr>\n",
       "      <td>4</td>\n",
       "      <td>Deep Learning</td>\n",
       "      <td>1263</td>\n",
       "      <td>770</td>\n",
       "      <td>136</td>\n",
       "    </tr>\n",
       "    <tr>\n",
       "      <td>5</td>\n",
       "      <td>Machine Learning</td>\n",
       "      <td>1629</td>\n",
       "      <td>477</td>\n",
       "      <td>74</td>\n",
       "    </tr>\n",
       "  </tbody>\n",
       "</table>\n",
       "</div>"
      ],
      "text/plain": [
       "                               Very interested  Somewhat interested  \\\n",
       "0   Big Data (Spark / Hadoop)             1332                  729   \n",
       "1  Data Analysis / Statistics             1688                  444   \n",
       "2             Data Journalism              429                 1081   \n",
       "3          Data Visualization             1340                  734   \n",
       "4               Deep Learning             1263                  770   \n",
       "5            Machine Learning             1629                  477   \n",
       "\n",
       "   Not interested  \n",
       "0             127  \n",
       "1              60  \n",
       "2             610  \n",
       "3             102  \n",
       "4             136  \n",
       "5              74  "
      ]
     },
     "execution_count": 65,
     "metadata": {},
     "output_type": "execute_result"
    }
   ],
   "source": [
    "df_topsrv.rename(columns={'Unnamed: 0' : ''}, inplace=True)\n",
    "df_topsrv"
   ]
  },
  {
   "cell_type": "code",
   "execution_count": 66,
   "metadata": {},
   "outputs": [
    {
     "data": {
      "text/html": [
       "<style  type=\"text/css\" >\n",
       "</style><table id=\"T_8f255920_f3a2_11e9_9682_93cb798f1ee7\" ><thead>    <tr>        <th class=\"blank level0\" ></th>        <th class=\"col_heading level0 col0\" >Very interested</th>        <th class=\"col_heading level0 col1\" >Somewhat interested</th>        <th class=\"col_heading level0 col2\" >Not interested</th>    </tr>    <tr>        <th class=\"index_name level0\" ></th>        <th class=\"blank\" ></th>        <th class=\"blank\" ></th>        <th class=\"blank\" ></th>    </tr></thead><tbody>\n",
       "                <tr>\n",
       "                        <th id=\"T_8f255920_f3a2_11e9_9682_93cb798f1ee7level0_row0\" class=\"row_heading level0 row0\" >Big Data (Spark / Hadoop)</th>\n",
       "                        <td id=\"T_8f255920_f3a2_11e9_9682_93cb798f1ee7row0_col0\" class=\"data row0 col0\" >1332</td>\n",
       "                        <td id=\"T_8f255920_f3a2_11e9_9682_93cb798f1ee7row0_col1\" class=\"data row0 col1\" >729</td>\n",
       "                        <td id=\"T_8f255920_f3a2_11e9_9682_93cb798f1ee7row0_col2\" class=\"data row0 col2\" >127</td>\n",
       "            </tr>\n",
       "            <tr>\n",
       "                        <th id=\"T_8f255920_f3a2_11e9_9682_93cb798f1ee7level0_row1\" class=\"row_heading level0 row1\" >Data Analysis / Statistics</th>\n",
       "                        <td id=\"T_8f255920_f3a2_11e9_9682_93cb798f1ee7row1_col0\" class=\"data row1 col0\" >1688</td>\n",
       "                        <td id=\"T_8f255920_f3a2_11e9_9682_93cb798f1ee7row1_col1\" class=\"data row1 col1\" >444</td>\n",
       "                        <td id=\"T_8f255920_f3a2_11e9_9682_93cb798f1ee7row1_col2\" class=\"data row1 col2\" >60</td>\n",
       "            </tr>\n",
       "            <tr>\n",
       "                        <th id=\"T_8f255920_f3a2_11e9_9682_93cb798f1ee7level0_row2\" class=\"row_heading level0 row2\" >Data Journalism</th>\n",
       "                        <td id=\"T_8f255920_f3a2_11e9_9682_93cb798f1ee7row2_col0\" class=\"data row2 col0\" >429</td>\n",
       "                        <td id=\"T_8f255920_f3a2_11e9_9682_93cb798f1ee7row2_col1\" class=\"data row2 col1\" >1081</td>\n",
       "                        <td id=\"T_8f255920_f3a2_11e9_9682_93cb798f1ee7row2_col2\" class=\"data row2 col2\" >610</td>\n",
       "            </tr>\n",
       "            <tr>\n",
       "                        <th id=\"T_8f255920_f3a2_11e9_9682_93cb798f1ee7level0_row3\" class=\"row_heading level0 row3\" >Data Visualization</th>\n",
       "                        <td id=\"T_8f255920_f3a2_11e9_9682_93cb798f1ee7row3_col0\" class=\"data row3 col0\" >1340</td>\n",
       "                        <td id=\"T_8f255920_f3a2_11e9_9682_93cb798f1ee7row3_col1\" class=\"data row3 col1\" >734</td>\n",
       "                        <td id=\"T_8f255920_f3a2_11e9_9682_93cb798f1ee7row3_col2\" class=\"data row3 col2\" >102</td>\n",
       "            </tr>\n",
       "            <tr>\n",
       "                        <th id=\"T_8f255920_f3a2_11e9_9682_93cb798f1ee7level0_row4\" class=\"row_heading level0 row4\" >Deep Learning</th>\n",
       "                        <td id=\"T_8f255920_f3a2_11e9_9682_93cb798f1ee7row4_col0\" class=\"data row4 col0\" >1263</td>\n",
       "                        <td id=\"T_8f255920_f3a2_11e9_9682_93cb798f1ee7row4_col1\" class=\"data row4 col1\" >770</td>\n",
       "                        <td id=\"T_8f255920_f3a2_11e9_9682_93cb798f1ee7row4_col2\" class=\"data row4 col2\" >136</td>\n",
       "            </tr>\n",
       "            <tr>\n",
       "                        <th id=\"T_8f255920_f3a2_11e9_9682_93cb798f1ee7level0_row5\" class=\"row_heading level0 row5\" >Machine Learning</th>\n",
       "                        <td id=\"T_8f255920_f3a2_11e9_9682_93cb798f1ee7row5_col0\" class=\"data row5 col0\" >1629</td>\n",
       "                        <td id=\"T_8f255920_f3a2_11e9_9682_93cb798f1ee7row5_col1\" class=\"data row5 col1\" >477</td>\n",
       "                        <td id=\"T_8f255920_f3a2_11e9_9682_93cb798f1ee7row5_col2\" class=\"data row5 col2\" >74</td>\n",
       "            </tr>\n",
       "    </tbody></table>"
      ],
      "text/plain": [
       "<pandas.io.formats.style.Styler at 0x7f2548346ef0>"
      ]
     },
     "execution_count": 66,
     "metadata": {},
     "output_type": "execute_result"
    }
   ],
   "source": [
    "df_topsrv.set_index('',inplace=True)\n",
    "df_topsrv.style"
   ]
  }
 ],
 "metadata": {
  "kernelspec": {
   "display_name": "Python",
   "language": "python",
   "name": "conda-env-python-py"
  },
  "language_info": {
   "codemirror_mode": {
    "name": "ipython",
    "version": 3
   },
   "file_extension": ".py",
   "mimetype": "text/x-python",
   "name": "python",
   "nbconvert_exporter": "python",
   "pygments_lexer": "ipython3",
   "version": "3.6.7"
  }
 },
 "nbformat": 4,
 "nbformat_minor": 4
}
